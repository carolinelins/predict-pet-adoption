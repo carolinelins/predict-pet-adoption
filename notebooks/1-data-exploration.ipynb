{
 "cells": [
  {
   "cell_type": "code",
   "execution_count": null,
   "metadata": {
    "execution": {
     "iopub.execute_input": "2024-12-01T18:52:06.385953Z",
     "iopub.status.busy": "2024-12-01T18:52:06.385071Z",
     "iopub.status.idle": "2024-12-01T18:52:10.832439Z",
     "shell.execute_reply": "2024-12-01T18:52:10.831771Z"
    }
   },
   "outputs": [],
   "source": [
    "import pandas as pd\n",
    "import seaborn as sns\n",
    "import matplotlib.pyplot as plt\n",
    "\n",
    "df = pd.read_csv('../data/raw/pet_adoption_data.csv')\n",
    "\n",
    "df.head()\n",
    "\n",
    "df.info()\n",
    "\n",
    "df.describe()\n",
    "\n",
    "categorical_columns = ['PetType', 'Breed', 'Color', 'Size', 'Vaccinated', 'HealthCondition', 'PreviousOwner']\n",
    "for col in categorical_columns:\n",
    "    print(f'Distribution de {col}:')\n",
    "    print(df[col].value_counts())\n",
    "    sns.countplot(x=col, data=df)\n",
    "    plt.title(f'Distribution de {col}')\n",
    "    plt.show()\n",
    "\n",
    "# Analyse des variables numériques\n",
    "numeric_columns = ['AgeMonths', 'WeightKg', 'TimeInShelterDays', 'AdoptionFee']\n",
    "for col in numeric_columns:\n",
    "    print(f'Histogramme de {col}:')\n",
    "    sns.histplot(df[col], bins=20, kde=True)\n",
    "    plt.title(f'Distribution de {col}')\n",
    "    plt.show()\n",
    "\n",
    "# Vérifier la présence de valeurs nulles\n",
    "missing_data = df.isnull().sum()\n",
    "print('Valeurs nulles dans les colonnes:')\n",
    "print(missing_data)\n",
    "\n",
    "# Vérifier la corrélation entre les variables numériques\n",
    "correlation_matrix = df[numeric_columns].corr()\n",
    "plt.figure(figsize=(10, 6))\n",
    "sns.heatmap(correlation_matrix, annot=True, cmap='coolwarm', fmt='.2f')\n",
    "plt.title('Matrice de corrélation des variables numériques')\n",
    "plt.show()\n",
    "\n",
    "# Vérifier les valeurs uniques dans les variables catégorielles\n",
    "for col in categorical_columns:\n",
    "    print(f'Valeurs uniques dans {col}: {df[col].unique()}')\n"
   ]
  }
 ],
 "metadata": {
  "kernelspec": {
   "display_name": "predict-pet-adoption",
   "language": "python",
   "name": "python3"
  },
  "language_info": {
   "codemirror_mode": {
    "name": "ipython",
    "version": 3
   },
   "file_extension": ".py",
   "mimetype": "text/x-python",
   "name": "python",
   "nbconvert_exporter": "python",
   "pygments_lexer": "ipython3",
   "version": "3.10.15"
  }
 },
 "nbformat": 4,
 "nbformat_minor": 2
}
