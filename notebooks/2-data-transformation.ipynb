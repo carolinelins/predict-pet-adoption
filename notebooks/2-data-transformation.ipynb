{
 "cells": [
  {
   "cell_type": "code",
   "execution_count": null,
   "metadata": {
    "execution": {
     "iopub.execute_input": "2024-12-01T18:52:14.277526Z",
     "iopub.status.busy": "2024-12-01T18:52:14.271509Z",
     "iopub.status.idle": "2024-12-01T18:52:15.199207Z",
     "shell.execute_reply": "2024-12-01T18:52:15.198461Z"
    }
   },
   "outputs": [],
   "source": [
    "import pandas as pd\n",
    "from sklearn.preprocessing import StandardScaler\n",
    "\n",
    "# Charger les données\n",
    "df = pd.read_csv('../data/raw/pet_adoption_data.csv')\n",
    "\n",
    "# Supprimer la colonne 'PetID' qui est une variable d'identification\n",
    "df = df.drop('PetID', axis=1)\n",
    "\n",
    "# Variables catégorielles\n",
    "categorical_columns = ['PetType', 'Breed', 'Color', 'Size', 'Vaccinated', 'HealthCondition', 'PreviousOwner']\n",
    "# Variables numériques\n",
    "numeric_columns = ['AgeMonths', 'WeightKg', 'TimeInShelterDays', 'AdoptionFee']\n",
    "\n",
    "# Transformation des variables catégorielles.\n",
    "# S'assurer que les variables binaires sont dans le bon format (0 ou 1)\n",
    "binary_columns = ['Vaccinated', 'HealthCondition', 'PreviousOwner']\n",
    "df[binary_columns] = df[binary_columns].astype(int)\n",
    "\n",
    "# Application du « One-Hot Encoding » aux variables nominales\n",
    "df = pd.get_dummies(df, columns=['PetType', 'Breed', 'Color', 'Size'], drop_first=True)\n",
    "\n",
    "# --- 2. Normalisation des variables numériques ---\n",
    "scaler = StandardScaler()\n",
    "df[numeric_columns] = scaler.fit_transform(df[numeric_columns])\n",
    "\n",
    "# Visualiser les premières lignes du DataFrame transformé\n",
    "print(df.head())\n",
    "\n",
    "# Si vous voulez sauvegarder les données transformées\n",
    "df.to_csv('../data/processed/pet_adoption_transformed.csv', index=False)\n"
   ]
  }
 ],
 "metadata": {
  "kernelspec": {
   "display_name": "predict-pet-adoption",
   "language": "python",
   "name": "python3"
  },
  "language_info": {
   "codemirror_mode": {
    "name": "ipython",
    "version": 3
   },
   "file_extension": ".py",
   "mimetype": "text/x-python",
   "name": "python",
   "nbconvert_exporter": "python",
   "pygments_lexer": "ipython3",
   "version": "3.10.15"
  }
 },
 "nbformat": 4,
 "nbformat_minor": 2
}
