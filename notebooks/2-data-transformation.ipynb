{
 "cells": [
  {
   "cell_type": "code",
   "execution_count": null,
   "metadata": {
    "execution": {
     "iopub.execute_input": "2024-12-01T18:52:14.277526Z",
     "iopub.status.busy": "2024-12-01T18:52:14.271509Z",
     "iopub.status.idle": "2024-12-01T18:52:15.199207Z",
     "shell.execute_reply": "2024-12-01T18:52:15.198461Z"
    }
   },
   "outputs": [],
   "source": [
    "import pandas as pd\n",
    "from sklearn.preprocessing import StandardScaler\n",
    "\n",
    "# Carregar os dados (substitua pelo caminho correto do seu arquivo)\n",
    "df = pd.read_csv('../data/raw/pet_adoption_data.csv')\n",
    "\n",
    "# Retirar a coluna 'PetID' que é uma variável identificadora\n",
    "df = df.drop('PetID', axis=1)  # Remover a coluna 'PetID'\n",
    "\n",
    "# Variáveis categóricas\n",
    "categorical_columns = ['PetType', 'Breed', 'Color', 'Size', 'Vaccinated', 'HealthCondition', 'PreviousOwner']\n",
    "# Variáveis numéricas\n",
    "numeric_columns = ['AgeMonths', 'WeightKg', 'TimeInShelterDays', 'AdoptionFee']\n",
    "\n",
    "# --- 1. Transformação de Variáveis Categóricas ---\n",
    "# Garantindo que as variáveis binárias estão no formato correto (0 ou 1)\n",
    "binary_columns = ['Vaccinated', 'HealthCondition', 'PreviousOwner']\n",
    "df[binary_columns] = df[binary_columns].astype(int)\n",
    "\n",
    "# Aplicando One-Hot Encoding para variáveis nominais\n",
    "df = pd.get_dummies(df, columns=['PetType', 'Breed', 'Color', 'Size'], drop_first=True)\n",
    "\n",
    "# --- 2. Normalização das Variáveis Numéricas ---\n",
    "scaler = StandardScaler()\n",
    "df[numeric_columns] = scaler.fit_transform(df[numeric_columns])\n",
    "\n",
    "# Visualizar as primeiras linhas do DataFrame transformado\n",
    "print(df.head())\n",
    "\n",
    "# Caso queira salvar os dados transformados\n",
    "df.to_csv('../data/processed/pet_adoption_transformed.csv', index=False)\n"
   ]
  }
 ],
 "metadata": {
  "kernelspec": {
   "display_name": "predict-pet-adoption",
   "language": "python",
   "name": "python3"
  },
  "language_info": {
   "codemirror_mode": {
    "name": "ipython",
    "version": 3
   },
   "file_extension": ".py",
   "mimetype": "text/x-python",
   "name": "python",
   "nbconvert_exporter": "python",
   "pygments_lexer": "ipython3",
   "version": "3.10.15"
  }
 },
 "nbformat": 4,
 "nbformat_minor": 2
}
